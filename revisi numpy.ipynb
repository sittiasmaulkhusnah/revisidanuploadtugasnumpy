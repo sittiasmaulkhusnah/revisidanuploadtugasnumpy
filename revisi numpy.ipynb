{
 "cells": [
  {
   "cell_type": "markdown",
   "id": "3ba44e99",
   "metadata": {},
   "source": [
    "<div style=\"font-family: Times New Roman; font-size: 20px; border-radius : 10px; background-color:rgb(253, 250, 250); color:rgb(0, 25, 135); padding: 12px; line-height: 0.7;\">List </div>"
   ]
  },
  {
   "cell_type": "code",
   "execution_count": null,
   "id": "2fa9d304",
   "metadata": {},
   "outputs": [],
   "source": [
    "# list daftar belanja bulanan di kost\n",
    "list_belanja=[\"Sabun\", \"Tisu\", \"Odol\", \"Sunscreen\"]\n",
    "print(\"List belanja awal:\", list_belanja)"
   ]
  },
  {
   "cell_type": "code",
   "execution_count": null,
   "id": "6ef32c5e",
   "metadata": {},
   "outputs": [],
   "source": [
    "# tambah barang baru\n",
    "list_belanja.append(\"Parfume\")\n",
    "print(\"Setelah tambah barang:\", list_belanja)"
   ]
  },
  {
   "cell_type": "code",
   "execution_count": null,
   "id": "d06825a2",
   "metadata": {},
   "outputs": [],
   "source": [
    "# hapus barang (masih ada di kost)\n",
    "list_belanja.remove(\"Odol\")\n",
    "print(\"Setelah hapus barang:\", list_belanja)"
   ]
  },
  {
   "cell_type": "code",
   "execution_count": null,
   "id": "134a8bc1",
   "metadata": {},
   "outputs": [],
   "source": [
    "# update nama barang (typo ki kodong)\n",
    "list_belanja[1]=\"Tisu Wajah\"\n",
    "print(\"Ganti nama barang:\", list_belanja)"
   ]
  },
  {
   "cell_type": "code",
   "execution_count": null,
   "id": "471ec4e3",
   "metadata": {},
   "outputs": [],
   "source": [
    "# menampilkan list barang langsung\n",
    "print(\"fix belanjaan:\", list_belanja)"
   ]
  },
  {
   "cell_type": "markdown",
   "id": "743928f5",
   "metadata": {},
   "source": [
    "<div style=\"font-family: Times New Roman; font-size: 20px; border-radius : 10px; background-color:rgb(253, 250, 250); color:rgb(0, 25, 135); padding: 12px; line-height: 0.7;\">Array </div>"
   ]
  },
  {
   "cell_type": "code",
   "execution_count": null,
   "id": "a26c4d15",
   "metadata": {},
   "outputs": [],
   "source": [
    "import array as arr\n",
    "# membuat array bertipe ineteger (harga barang belanja bulanan)\n",
    "# harga awal\n",
    "harga=arr.array('i',[20000, 15000, 30000, 40000])"
   ]
  },
  {
   "cell_type": "code",
   "execution_count": null,
   "id": "7f607a6a",
   "metadata": {},
   "outputs": [],
   "source": [
    "# operasi dasar\n",
    "harga.append(75000)   #harga produk baru\n",
    "harga.remove(30000)   #hapus harga yg tidak jadi beli\n",
    "harga[1]=13500        #update harga (ada diskon)"
   ]
  },
  {
   "cell_type": "code",
   "execution_count": null,
   "id": "5746df90",
   "metadata": {
    "lines_to_next_cell": 2
   },
   "outputs": [],
   "source": [
    "# menampilkan harga\n",
    "print(\"list harga:\",end=\"\")\n",
    "for x in harga:\n",
    "    print(x,end=\"\")"
   ]
  },
  {
   "cell_type": "code",
   "execution_count": null,
   "id": "fa2cdb17",
   "metadata": {},
   "outputs": [],
   "source": [
    "# list \n",
    "list_dihapusdiganti=[\"Odol\",30000,\"Tisu\",15000]\n",
    "list_dihapusdiganti.append(True)\n",
    "print(\"list dihapusdiganti:\",list_dihapusdiganti)"
   ]
  },
  {
   "cell_type": "code",
   "execution_count": null,
   "id": "e77b873d",
   "metadata": {},
   "outputs": [],
   "source": [
    "# Array dengan modul array\n",
    "harga_array=arr.array('i',[20000, 135000, 40000])\n",
    "harga_array.append(75000)\n",
    "print(\"Fix Harga(module array):\",harga_array.tolist())"
   ]
  },
  {
   "cell_type": "markdown",
   "id": "fcaf94bf",
   "metadata": {},
   "source": [
    "<div style=\"font-family: Times New Roman; font-size: 20px; border-radius : 10px; background-color:rgb(253, 250, 250); color:rgb(0, 25, 135); padding: 12px; line-height: 0.7;\">Array dengan NumPy </div>"
   ]
  },
  {
   "cell_type": "code",
   "execution_count": null,
   "id": "aa292f2b",
   "metadata": {},
   "outputs": [],
   "source": [
    "import numpy as np\n",
    "nilai_tugas=np.array([80, 85, 90, 95, 99])\n",
    "print(\"Nilai tugas:\", nilai_tugas)\n",
    "print(\"Operasi aritmatika(+10):\", nilai_tugas+10)"
   ]
  },
  {
   "cell_type": "code",
   "execution_count": null,
   "id": "bd284687",
   "metadata": {},
   "outputs": [],
   "source": [
    "# pembuatan array numpy\n",
    "nilai=np.array([88, 90, 95, 100])\n",
    "print(\"Mau nilai:\", nilai)"
   ]
  },
  {
   "cell_type": "markdown",
   "id": "408685c7",
   "metadata": {},
   "source": [
    "<div style=\"font-family: Times New Roman; font-size: 20px; border-radius : 10px; background-color:rgb(253, 250, 250); color:rgb(0, 25, 135); padding: 12px; line-height: 0.7;\">Matriks dengan NumPy </div>"
   ]
  },
  {
   "cell_type": "code",
   "execution_count": null,
   "id": "a734ce3e",
   "metadata": {},
   "outputs": [],
   "source": [
    "# membuat array berisi nol\n",
    "zeros=np.zeros((3,9))  #array 3x9\n",
    "print(zeros)"
   ]
  },
  {
   "cell_type": "code",
   "execution_count": null,
   "id": "18f42a9c",
   "metadata": {},
   "outputs": [],
   "source": [
    "# membuat array berisi satu\n",
    "ones=np.ones((3,3))\n",
    "print(ones)"
   ]
  },
  {
   "cell_type": "code",
   "execution_count": null,
   "id": "997dbd87",
   "metadata": {},
   "outputs": [],
   "source": [
    "# membuat array dengan rentang nilai (seperti range())tapi lebih fleksibel\n",
    "arr=np.arange(3,9,6)\n",
    "print(arr)"
   ]
  },
  {
   "cell_type": "code",
   "execution_count": null,
   "id": "a2de8239",
   "metadata": {},
   "outputs": [],
   "source": [
    "# membuat array dengan jumlah elemen tertentu yg dibagi rata dlm suatu interval\n",
    "linspace=np.linspace(0,10,5)\n",
    "print(linspace)"
   ]
  },
  {
   "cell_type": "code",
   "execution_count": null,
   "id": "0da5bb6e",
   "metadata": {},
   "outputs": [],
   "source": [
    "# membuat array dengan nilai acak dari distribusi seragam (0 hingga 1)\n",
    "random_arr=np.random.randint(0,10, size=(9,9))\n",
    "print(random_arr)"
   ]
  },
  {
   "cell_type": "code",
   "execution_count": null,
   "id": "0b812e00",
   "metadata": {},
   "outputs": [],
   "source": [
    "# mengetahui bentuk dan dimensi array\n",
    "a=np.array([[3,9],[0,6]]);a.shape; a.ndim\n",
    "print(a)"
   ]
  },
  {
   "cell_type": "code",
   "execution_count": null,
   "id": "aa5c6507",
   "metadata": {},
   "outputs": [],
   "source": [
    "# mengetahui atau mengatur tipe data\n",
    "tes=np.array([1,2,3],dtype=\"float32\").dtype\n",
    "print(tes)"
   ]
  },
  {
   "cell_type": "code",
   "execution_count": null,
   "id": "b5d5e937",
   "metadata": {},
   "outputs": [],
   "source": [
    "# menghitung total elemen\n",
    "tes=np.array([[0,3],[0,9],[0,6]]).size\n",
    "print(tes)"
   ]
  },
  {
   "cell_type": "code",
   "execution_count": null,
   "id": "85647fe2",
   "metadata": {},
   "outputs": [],
   "source": [
    "# akses dan manipulasi data\n",
    "a=np.array([30,90,60,91]);a[1:3]\n",
    "print(a)"
   ]
  },
  {
   "cell_type": "markdown",
   "id": "1a6c620b",
   "metadata": {},
   "source": [
    "<div style=\"font-family: Times New Roman; font-size: 20px; border-radius : 10px; background-color:rgb(253, 250, 250); color:rgb(0, 25, 135); padding: 12px; line-height: 0.7;\">Contoh Penerapan (Pengeluaran Harian) </div>"
   ]
  },
  {
   "cell_type": "code",
   "execution_count": 2,
   "id": "dade69f8",
   "metadata": {},
   "outputs": [],
   "source": [
    "# import library\n",
    "import numpy as np"
   ]
  },
  {
   "cell_type": "code",
   "execution_count": null,
   "id": "fe80c312",
   "metadata": {},
   "outputs": [],
   "source": [
    "# buat data pengeluaran selama seminggu (Rp)\n",
    "pengeluaran = np.array([15, 70, 35, 100, 20, 45, 90])"
   ]
  },
  {
   "cell_type": "code",
   "execution_count": 7,
   "id": "3903900c",
   "metadata": {},
   "outputs": [
    {
     "name": "stdout",
     "output_type": "stream",
     "text": [
      "Shape: (7,)\n",
      "Dimensi: 1\n",
      "Tipe data: int64\n",
      "Jumlah data: 7\n"
     ]
    }
   ],
   "source": [
    "# cek atribut\n",
    "print(\"Shape:\", pengeluaran.shape)\n",
    "print(\"Dimensi:\", pengeluaran.ndim)\n",
    "print(\"Tipe data:\", pengeluaran.dtype)\n",
    "print(\"Jumlah data:\", pengeluaran.size)"
   ]
  },
  {
   "cell_type": "code",
   "execution_count": null,
   "id": "225af512",
   "metadata": {},
   "outputs": [
    {
     "name": "stdout",
     "output_type": "stream",
     "text": [
      "5 hari terakhir: [ 35 100  20  45  90]\n"
     ]
    }
   ],
   "source": [
    "# slicing\n",
    "akhir = pengeluaran[-5:]    #ambil 5 hari terakhir\n",
    "print(\"5 hari terakhir:\", akhir)"
   ]
  },
  {
   "cell_type": "code",
   "execution_count": 10,
   "id": "a54c61f2",
   "metadata": {},
   "outputs": [
    {
     "name": "stdout",
     "output_type": "stream",
     "text": [
      "2 pengeluaran tertinggi: [ 90 100]\n"
     ]
    }
   ],
   "source": [
    "# cari 2 pengeluaran tertinggi\n",
    "urut = np.sort(pengeluaran)\n",
    "tertinggi = urut[-2:]\n",
    "print(\"2 pengeluaran tertinggi:\", tertinggi)"
   ]
  },
  {
   "cell_type": "code",
   "execution_count": null,
   "id": "c1af0b0c",
   "metadata": {},
   "outputs": [
    {
     "name": "stdout",
     "output_type": "stream",
     "text": [
      "Prediksi besok (ribu): 63.57142857142857\n"
     ]
    }
   ],
   "source": [
    "# prediksi pengeluaran besok\n",
    "prediksi = np.zeros(1)\n",
    "prediksi[0] = np.mean(pengeluaran) + 10\n",
    "print(\"Prediksi besok (ribu):\", prediksi[0])"
   ]
  },
  {
   "cell_type": "markdown",
   "id": "c87c21aa",
   "metadata": {},
   "source": [
    "<div style=\"font-family: Times New Roman; font-size: 20px; border-radius : 10px; background-color:rgb(253, 250, 250); color:rgb(0, 25, 135); padding: 12px; line-height: 0.7;\">Statistical Functions </div>"
   ]
  },
  {
   "cell_type": "markdown",
   "id": "f09fb99b",
   "metadata": {},
   "source": [
    "<div style=\"font-family: Times New Roman; font-size: 20px; border-radius : 10px; background-color:rgb(253, 250, 250); color:rgb(0, 25, 135); padding: 12px; line-height: 0.7;\">1. Menampilkan Nilai Maksimal dan Minimal </div>"
   ]
  },
  {
   "cell_type": "code",
   "execution_count": null,
   "id": "ef882f36",
   "metadata": {},
   "outputs": [
    {
     "name": "stdout",
     "output_type": "stream",
     "text": [
      "Nilai Minimum: 1\n",
      "Nilai Maksimum: 9\n",
      "Nilai Maksimum: 9\n"
     ]
    }
   ],
   "source": [
    "# numpy.amin() and numpy.amax()\n",
    "arr = np.array([3, 1, 4, 1, 5, 9, 2, 6, 5])\n",
    "min_value = np.amin(arr)\n",
    "print(\"Nilai Minimum:\", min_value)\n",
    "\n",
    "max_value = np.amax(arr)\n",
    "print(\"Nilai Maksimum:\", max_value)\n",
    "\n",
    "arr = np.array([3, 1, 4, 1, 5, 9, 2, 6, 5])\n",
    "max_value = np.amax(arr)\n",
    "print(\"Nilai Maksimum:\", max_value)"
   ]
  },
  {
   "cell_type": "markdown",
   "id": "cebcc4cb",
   "metadata": {},
   "source": [
    "<div style=\"font-family: Times New Roman; font-size: 20px; border-radius : 10px; background-color:rgb(253, 250, 250); color:rgb(0, 25, 135); padding: 12px; line-height: 0.7;\">2. Menghitung rentang (range) dari Array </div>"
   ]
  },
  {
   "cell_type": "code",
   "execution_count": null,
   "id": "60d2cb2f",
   "metadata": {},
   "outputs": [
    {
     "name": "stdout",
     "output_type": "stream",
     "text": [
      "\n",
      "Array: [3 1 4 1 5 9 2 6 5]\n",
      "Rentang: 8\n"
     ]
    }
   ],
   "source": [
    "# numpy.ptp()\n",
    "range_value = np.ptp(arr)\n",
    "print(\"\\nArray:\", arr)\n",
    "print(\"Rentang:\", range_value)"
   ]
  },
  {
   "cell_type": "markdown",
   "id": "fae2f619",
   "metadata": {},
   "source": [
    "<div style=\"font-family: Times New Roman; font-size: 20px; border-radius : 10px; background-color:rgb(253, 250, 250); color:rgb(0, 25, 135); padding: 12px; line-height: 0.7;\">3. Menghitung Persentil </div>"
   ]
  },
  {
   "cell_type": "code",
   "execution_count": null,
   "id": "4fd0b131",
   "metadata": {},
   "outputs": [
    {
     "name": "stdout",
     "output_type": "stream",
     "text": [
      "Q1 (Persentil ke-25): 3.0\n",
      "Median (Persentil ke-50): 5.0\n",
      "Q3 (Persentil ke-75): 8.0\n"
     ]
    }
   ],
   "source": [
    "# numpy.percentile()\n",
    "# membuat array NumPy \n",
    "arr = np.array([4, 8, 3, 9, 6, 2, 1, 5, 9])\n",
    "\n",
    "# menghitung persentil ke-25 (Q1)\n",
    "q1 = np.percentile(arr, 25)\n",
    "\n",
    "# menghitung persentil ke-50 (median)\n",
    "median = np.percentile(arr, 50)\n",
    "\n",
    "# menghitung persentil ke-75 (Q3)\n",
    "q3 = np.percentile(arr, 75)\n",
    "\n",
    "# menampilkan hasil\n",
    "print(\"Q1 (Persentil ke-25):\", q1)\n",
    "print(\"Median (Persentil ke-50):\", median)\n",
    "print(\"Q3 (Persentil ke-75):\", q3)"
   ]
  },
  {
   "cell_type": "markdown",
   "id": "7d73b956",
   "metadata": {},
   "source": [
    "<div style=\"font-family: Times New Roman; font-size: 20px; border-radius : 10px; background-color:rgb(253, 250, 250); color:rgb(0, 25, 135); padding: 12px; line-height: 0.7;\">4. Menghitung Median </div>"
   ]
  },
  {
   "cell_type": "code",
   "execution_count": 15,
   "id": "4efe473b",
   "metadata": {},
   "outputs": [
    {
     "name": "stdout",
     "output_type": "stream",
     "text": [
      "Array: [4 8 3 9 6 2 1 5 9]\n",
      "Median: 5.0\n"
     ]
    }
   ],
   "source": [
    "#4. numpy.median()\n",
    "# membuat array numpy\n",
    "arr = np.array([4, 8, 3, 9, 6, 2, 1, 5, 9])\n",
    "\n",
    "# menggunakan numpy.median() untuk menghitung median\n",
    "median_value = np.median(arr)\n",
    "print(\"Array:\", arr)\n",
    "print(\"Median:\", median_value)"
   ]
  },
  {
   "cell_type": "markdown",
   "id": "bb776ff2",
   "metadata": {},
   "source": [
    "<div style=\"font-family: Times New Roman; font-size: 20px; border-radius : 10px; background-color:rgb(253, 250, 250); color:rgb(0, 25, 135); padding: 12px; line-height: 0.7;\">5. Menghitung Mean </div>"
   ]
  },
  {
   "cell_type": "code",
   "execution_count": 20,
   "id": "93bf2afd",
   "metadata": {},
   "outputs": [
    {
     "name": "stdout",
     "output_type": "stream",
     "text": [
      "Mean: 5.222222222222222\n"
     ]
    }
   ],
   "source": [
    "# numpy.mean()\n",
    "arr = np.array([4, 8, 3, 9, 6, 2, 1, 5, 9])\n",
    "mean = np.mean(arr)\n",
    "print(\"Mean:\", mean)"
   ]
  },
  {
   "cell_type": "markdown",
   "id": "cac69387",
   "metadata": {},
   "source": [
    "<div style=\"font-family: Times New Roman; font-size: 20px; border-radius : 10px; background-color:rgb(253, 250, 250); color:rgb(0, 25, 135); padding: 12px; line-height: 0.7;\">6. Menghitung Average </div>"
   ]
  },
  {
   "cell_type": "code",
   "execution_count": 21,
   "id": "3576ad29",
   "metadata": {},
   "outputs": [
    {
     "name": "stdout",
     "output_type": "stream",
     "text": [
      "Average: 5.222222222222222\n"
     ]
    }
   ],
   "source": [
    "# numpy.average()\n",
    "average = np.average(arr)\n",
    "average = np.average(arr)\n",
    "print(\"Average:\", average)"
   ]
  },
  {
   "cell_type": "markdown",
   "id": "021ec94b",
   "metadata": {},
   "source": [
    "<div style=\"font-family: Times New Roman; font-size: 20px; border-radius : 10px; background-color:rgb(253, 250, 250); color:rgb(0, 25, 135); padding: 12px; line-height: 0.7;\">7. Standard Deviation </div>"
   ]
  },
  {
   "cell_type": "code",
   "execution_count": null,
   "id": "c16560aa",
   "metadata": {},
   "outputs": [
    {
     "name": "stdout",
     "output_type": "stream",
     "text": [
      "Standar Deviasi: 2.8196838978776713\n",
      "Mean: 45.38461538461539\n",
      "Varians: 134.46745562130178\n",
      "Standard Deviation: 11.596010332062566\n"
     ]
    }
   ],
   "source": [
    "arr = np.array([4, 8, 3, 9, 6, 2, 1, 5, 9])\n",
    "\n",
    "# menghitung standar deviasi dari array arr\n",
    "std_deviation = np.std(arr)\n",
    "\n",
    "print(\"Standar Deviasi:\", std_deviation)\n",
    "\n",
    "#7.1. Data berkelompok\n",
    "interval = np.array([20, 30, 40, 50, 60, 70])  # Batas interval\n",
    "frekuensi = np.array([5, 12, 18, 10, 7])       # Frekuensi\n",
    "\n",
    "# menghitung midpoint dari setiap interval\n",
    "midpoints = (interval[:-1] + interval[1:]) / 2\n",
    "\n",
    "# menghitung mean dari data berkelompok\n",
    "mean = np.sum(midpoints * frekuensi) / np.sum(frekuensi)\n",
    "\n",
    "# menghitung variansi dari data berkelompok\n",
    "varians = np.sum(((midpoints - mean) ** 2) * frekuensi) / np.sum(frekuensi)\n",
    "\n",
    "# menghitung standar deviasi dari data berkelompok\n",
    "std_deviation = np.sqrt(varians)\n",
    "\n",
    "print(\"Mean:\", mean)\n",
    "print(\"Varians:\", varians)\n",
    "print(\"Standard Deviation:\", std_deviation)"
   ]
  },
  {
   "cell_type": "markdown",
   "id": "219cff98",
   "metadata": {},
   "source": [
    "<div style=\"font-family: Times New Roman; font-size: 20px; border-radius : 10px; background-color:rgb(253, 250, 250); color:rgb(0, 25, 135); padding: 12px; line-height: 0.7;\">8. Variance </div>"
   ]
  },
  {
   "cell_type": "code",
   "execution_count": null,
   "id": "edba411c",
   "metadata": {},
   "outputs": [
    {
     "name": "stdout",
     "output_type": "stream",
     "text": [
      "Array: [4 8 3 9 6 2 1 5 9]\n",
      "Varians: 7.950617283950617\n"
     ]
    }
   ],
   "source": [
    "# Membuat array NumPy\n",
    "arr = np.array([4, 8, 3, 9, 6, 2, 1, 5, 9])\n",
    "\n",
    "# Menghitung varians dari array arr\n",
    "variance = np.var(arr)\n",
    "\n",
    "print(\"Array:\", arr)\n",
    "print(\"Varians:\", variance)"
   ]
  }
 ],
 "metadata": {
  "jupytext": {
   "cell_metadata_filter": "-all",
   "main_language": "python",
   "notebook_metadata_filter": "-all"
  },
  "kernelspec": {
   "display_name": "Python 3",
   "language": "python",
   "name": "python3"
  },
  "language_info": {
   "codemirror_mode": {
    "name": "ipython",
    "version": 3
   },
   "file_extension": ".py",
   "mimetype": "text/x-python",
   "name": "python",
   "nbconvert_exporter": "python",
   "pygments_lexer": "ipython3",
   "version": "3.13.7"
  }
 },
 "nbformat": 4,
 "nbformat_minor": 5
}
