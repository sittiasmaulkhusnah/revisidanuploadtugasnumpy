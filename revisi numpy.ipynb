{
 "cells": [
  {
   "cell_type": "code",
   "execution_count": null,
   "id": "2fa9d304",
   "metadata": {},
   "outputs": [],
   "source": [
    "# list daftar belanja bulanan di kost\n",
    "list_belanja=[\"Sabun\", \"Tisu\", \"Odol\", \"Sunscreen\"]\n",
    "print(\"List belanja awal:\", list_belanja)"
   ]
  },
  {
   "cell_type": "code",
   "execution_count": null,
   "id": "6ef32c5e",
   "metadata": {},
   "outputs": [],
   "source": [
    "# tambah barang baru\n",
    "list_belanja.append(\"Parfume\")\n",
    "print(\"Setelah tambah barang:\", list_belanja)"
   ]
  },
  {
   "cell_type": "code",
   "execution_count": null,
   "id": "d06825a2",
   "metadata": {},
   "outputs": [],
   "source": [
    "# hapus barang (masih ada di kost)\n",
    "list_belanja.remove(\"Odol\")\n",
    "print(\"Setelah hapus barang:\", list_belanja)"
   ]
  },
  {
   "cell_type": "code",
   "execution_count": null,
   "id": "134a8bc1",
   "metadata": {},
   "outputs": [],
   "source": [
    "# update nama barang (typo ki kodong)\n",
    "list_belanja[1]=\"Tisu Wajah\"\n",
    "print(\"Ganti nama barang:\", list_belanja)"
   ]
  },
  {
   "cell_type": "code",
   "execution_count": null,
   "id": "471ec4e3",
   "metadata": {},
   "outputs": [],
   "source": [
    "# menampilkan list barang langsung\n",
    "print(\"fix belanjaan:\", list_belanja)"
   ]
  },
  {
   "cell_type": "code",
   "execution_count": null,
   "id": "a26c4d15",
   "metadata": {},
   "outputs": [],
   "source": [
    "import array as arr\n",
    "# membuat array bertipe ineteger (harga barang belanja bulanan)\n",
    "# harga awal\n",
    "harga=arr.array('i',[20000, 15000, 30000, 40000])"
   ]
  },
  {
   "cell_type": "code",
   "execution_count": null,
   "id": "7f607a6a",
   "metadata": {},
   "outputs": [],
   "source": [
    "# operasi dasar\n",
    "harga.append(75000)   #harga produk baru\n",
    "harga.remove(30000)   #hapus harga yg tidak jadi beli\n",
    "harga[1]=13500        #update harga (ada diskon)"
   ]
  },
  {
   "cell_type": "code",
   "execution_count": null,
   "id": "5746df90",
   "metadata": {
    "lines_to_next_cell": 2
   },
   "outputs": [],
   "source": [
    "# menampilkan harga\n",
    "print(\"list harga:\",end=\"\")\n",
    "for x in harga:\n",
    "    print(x,end=\"\")"
   ]
  },
  {
   "cell_type": "code",
   "execution_count": null,
   "id": "fa2cdb17",
   "metadata": {},
   "outputs": [],
   "source": [
    "# list \n",
    "list_dihapusdiganti=[\"Odol\",30000,\"Tisu\",15000]\n",
    "list_dihapusdiganti.append(True)\n",
    "print(\"list dihapusdiganti:\",list_dihapusdiganti)"
   ]
  },
  {
   "cell_type": "code",
   "execution_count": null,
   "id": "e77b873d",
   "metadata": {},
   "outputs": [],
   "source": [
    "# Array dengan modul array\n",
    "harga_array=arr.array('i',[20000, 135000, 40000])\n",
    "harga_array.append(75000)\n",
    "print(\"Fix Harga(module array):\",harga_array.tolist())"
   ]
  },
  {
   "cell_type": "code",
   "execution_count": null,
   "id": "aa292f2b",
   "metadata": {},
   "outputs": [],
   "source": [
    "# Array dengan NumPy\n",
    "import numpy as np\n",
    "nilai_tugas=np.array([80, 85, 90, 95, 99])\n",
    "print(\"Nilai tugas:\", nilai_tugas)\n",
    "print(\"Operasi aritmatika(+10):\", nilai_tugas+10)"
   ]
  },
  {
   "cell_type": "code",
   "execution_count": null,
   "id": "bd284687",
   "metadata": {},
   "outputs": [],
   "source": [
    "# pembuatan array numpy\n",
    "nilai=np.array([88, 90, 95, 100])\n",
    "print(\"Mau nilai:\", nilai)"
   ]
  },
  {
   "cell_type": "code",
   "execution_count": null,
   "id": "a734ce3e",
   "metadata": {},
   "outputs": [],
   "source": [
    "# MATRIKS dengan numpy\n",
    "# membuat array berisi nol\n",
    "zeros=np.zeros((3,9))  #array 3x9\n",
    "print(zeros)"
   ]
  },
  {
   "cell_type": "code",
   "execution_count": null,
   "id": "18f42a9c",
   "metadata": {},
   "outputs": [],
   "source": [
    "# membuat array berisi satu\n",
    "ones=np.ones((3,3))\n",
    "print(ones)"
   ]
  },
  {
   "cell_type": "code",
   "execution_count": null,
   "id": "997dbd87",
   "metadata": {},
   "outputs": [],
   "source": [
    "# membuat array dengan rentang nilai (seperti range())tapi lebih fleksibel\n",
    "arr=np.arange(3,9,6)\n",
    "print(arr)"
   ]
  },
  {
   "cell_type": "code",
   "execution_count": null,
   "id": "a2de8239",
   "metadata": {},
   "outputs": [],
   "source": [
    "# membuat array dengan jumlah elemen tertentu yg dibagi rata dlm suatu interval\n",
    "linspace=np.linspace(0,10,5)\n",
    "print(linspace)"
   ]
  },
  {
   "cell_type": "code",
   "execution_count": null,
   "id": "0da5bb6e",
   "metadata": {},
   "outputs": [],
   "source": [
    "# membuat array dengan nilai acak dari distribusi seragam (0 hingga 1)\n",
    "random_arr=np.random.randint(0,10, size=(9,9))\n",
    "print(random_arr)"
   ]
  },
  {
   "cell_type": "code",
   "execution_count": null,
   "id": "0b812e00",
   "metadata": {},
   "outputs": [],
   "source": [
    "# mengetahui bentuk dan dimensi array\n",
    "a=np.array([[3,9],[0,6]]);a.shape; a.ndim\n",
    "print(a)"
   ]
  },
  {
   "cell_type": "code",
   "execution_count": null,
   "id": "aa5c6507",
   "metadata": {},
   "outputs": [],
   "source": [
    "# mengetahui atau mengatur tipe data\n",
    "tes=np.array([1,2,3],dtype=\"float32\").dtype\n",
    "print(tes)"
   ]
  },
  {
   "cell_type": "code",
   "execution_count": null,
   "id": "b5d5e937",
   "metadata": {},
   "outputs": [],
   "source": [
    "# menghitung total elemen\n",
    "tes=np.array([[0,3],[0,9],[0,6]]).size\n",
    "print(tes)"
   ]
  },
  {
   "cell_type": "code",
   "execution_count": null,
   "id": "85647fe2",
   "metadata": {},
   "outputs": [],
   "source": [
    "# akses dan manipulasi data\n",
    "a=np.array([30,90,60,91]);a[1:3]\n",
    "print(a)"
   ]
  },
  {
   "cell_type": "code",
   "execution_count": null,
   "id": "fe80c312",
   "metadata": {},
   "outputs": [],
   "source": []
  }
 ],
 "metadata": {
  "jupytext": {
   "cell_metadata_filter": "-all",
   "main_language": "python",
   "notebook_metadata_filter": "-all"
  }
 },
 "nbformat": 4,
 "nbformat_minor": 5
}
