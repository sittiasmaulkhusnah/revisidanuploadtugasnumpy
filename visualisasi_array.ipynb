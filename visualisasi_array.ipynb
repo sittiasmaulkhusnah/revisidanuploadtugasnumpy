{
 "cells": [
  {
   "cell_type": "markdown",
   "id": "02bb30fc",
   "metadata": {},
   "source": [
    "menampilkan citra gambar sebagai array numpy + heatmap"
   ]
  },
  {
   "cell_type": "code",
   "execution_count": null,
   "id": "b1e42676",
   "metadata": {},
   "outputs": [],
   "source": [
    "import numpy as np\n",
    "import matplotlib.pyplot as plt\n",
    "from PIL import Image"
   ]
  },
  {
   "cell_type": "code",
   "execution_count": null,
   "id": "c01f0429",
   "metadata": {},
   "outputs": [],
   "source": [
    "# membaca gambar asli\n",
    "img = Image.open(\"foto.png\")"
   ]
  },
  {
   "cell_type": "code",
   "execution_count": null,
   "id": "6889a1ad",
   "metadata": {},
   "outputs": [],
   "source": [
    "# konversi gambar ke array numpy\n",
    "img_array=np.array(img)"
   ]
  },
  {
   "cell_type": "code",
   "execution_count": null,
   "id": "3d264726",
   "metadata": {},
   "outputs": [],
   "source": [
    "# tampilkan gambar asli\n",
    "plt.imshow(img_array)\n",
    "plt.title(\"Gambar Asli\")\n",
    "plt.axis(\"off\")\n",
    "plt.show()"
   ]
  },
  {
   "cell_type": "code",
   "execution_count": null,
   "id": "0a78b89c",
   "metadata": {},
   "outputs": [],
   "source": [
    "# visualisasi channel RGB dengan heatmap\n",
    "fig, axes=plt.subplots(1, 3, figsize=(12, 4))\n",
    "channels=[\"Red\",\"Green\", \"Blue\"]"
   ]
  },
  {
   "cell_type": "code",
   "execution_count": null,
   "id": "f23bf135",
   "metadata": {},
   "outputs": [],
   "source": [
    "for i, ax in enumerate(axes):\n",
    "    ax.imshow(img_array[:, :, i], cmap=\"inferno\")\n",
    "    ax.set_title(f\"Channel {channels[i]}\")\n",
    "    ax.axis(\"off\")"
   ]
  },
  {
   "cell_type": "code",
   "execution_count": null,
   "id": "4f2be092",
   "metadata": {},
   "outputs": [],
   "source": [
    "plt.suptitle(\"Heatmap Array NumPy dari Channel RGB\", fontsize=14)\n",
    "plt.show()"
   ]
  }
 ],
 "metadata": {
  "jupytext": {
   "cell_metadata_filter": "-all",
   "main_language": "python",
   "notebook_metadata_filter": "-all"
  }
 },
 "nbformat": 4,
 "nbformat_minor": 5
}
